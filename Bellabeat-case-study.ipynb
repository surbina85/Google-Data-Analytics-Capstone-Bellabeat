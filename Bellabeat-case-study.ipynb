{
 "cells": [
  {
   "cell_type": "markdown",
   "id": "aa198b19-3fea-4c45-bfbc-3c46e8fba1b7",
   "metadata": {},
   "source": [
    "# Google Data Analytics Capstone Project: Bellabeat Case Study\n",
    "\n",
    "## Introduction\n",
    "This is the capstone project to complete the Google Data Analytics Certificate. \n",
    "This is an opportunity to analyze publicly available fitness tracker data to gain insights into how consumers are using these products. Identifying any trends in this data will be key. This will help Bellabeat, a high-tech manufacturer of health-focused products for women, determine its marketing strategy in the future.\n"
   ]
  },
  {
   "cell_type": "markdown",
   "id": "cdfb6832-dcb7-412a-93c9-1c313d5be457",
   "metadata": {},
   "source": [
    "## About the company\n",
    "\n",
    "Founded in 2013 by Urška Sršen and Sando Mur, Bellabeat is a high-tech company that creates health-focused smart products. Leveraging Sršen's artistic background, the company designs aesthetically pleasing technology aimed at informing and inspiring women worldwide. By collecting data on activity, sleep, stress, and reproductive health, Bellabeat empowers women with valuable insights into their health and habits, establishing itself as a leading wellness tech company for women.\n",
    "\n",
    "By 2016, Bellabeat had expanded globally with multiple office locations and product launches. Their products are sold through various online retailers and their own website. The company employs a diverse marketing strategy, investing in traditional media such as radio, billboards, print, and television, while heavily focusing on digital marketing. Bellabeat maintains active social media engagement on Facebook, Instagram, and Twitter, runs video ads on YouTube, and uses Google Display Network for targeted campaigns. \n",
    "\n",
    "Sršen has tasked the marketing analytics team to focus on a Bellabeat product and analyze sma\u0000rt device usage data in order to gain insight into how people are already using their sma\u0000rt devices. Then, using this information, she would like high-level recommendations for how these trends can inform Bellabeat's marketing strategy.\n"
   ]
  },
  {
   "cell_type": "markdown",
   "id": "6ab3f6d5-e89a-4775-93f0-21aa47a6c0e1",
   "metadata": {},
   "source": [
    "## Scenario\n",
    "\n",
    "You are a junior data analyst working on the marketing analyst team at Bellabeat, a high-tech manufacturer of health-focused products for women. Bellabeat is a successful small company, but they have the potential to become a larger player in the global smart device market. Urška Sršen, co-founder and Chief Creative O\u0000fficer of Bellabeat, believes that analyzing smart\u0000 device fitness data could help unlock new growth opportunities for the company. You have been asked to focus on one of Bellabeat’s products and analyze sma\u0000rt device data to gain insight into how consumers are using their smart\u0000 devices. The insights you discover will then help guide the marketing strategy for the company. You will present your analysis to the Bellabeat executive team along with your high-level recommendations for Bellabeat’s marketing strategy."
   ]
  },
  {
   "cell_type": "markdown",
   "id": "84616ccb-2656-4928-9ea0-ce96a64fb6da",
   "metadata": {},
   "source": [
    "## Characters and products\n",
    "**_Characters_**\n",
    "\n",
    "* **Urška Sršen:** Bellabeat’s co-founder and Chief Creative Officer\n",
    "* **Sando Mur:** Mathematician and Bellabeat’s cofounder; a key member of the Bellabeat executive team\n",
    "* **Bellabeat marketing analytics team:** A team of data analysts responsible for collecting, analyzing, and repo\u0000ing data that helps guide Bellabeat’s marketing strategy. You joined this team six months ago and have been busy learning about Bellabeat’s mission and business goals — as well as how you, as a junior data analyst, can help Bellabeat achieve them.\n",
    "  \n",
    "**_Products_**\n",
    "\n",
    "* **Bellabeat app:** The Bellabeat app provides users with health data related to their activity, sleep, stress,\n",
    "menstrual cycle, and mindfulness habits. This data can help users better understand their current habits and\n",
    "make healthy decisions. The Bellabeat app connects to their line of smart wellness products.\n",
    "* **Leaf:** Bellabeat’s classic wellness tracker can be worn as a bracelet, necklace, or clip. The Leaf tracker connects\n",
    "to the Bellabeat app to track activity, sleep, and stress.\n",
    "* **Time:** This wellness watch combines the timeless look of a classic timepiece with smart\u0000 technology to track user\n",
    "activity, sleep, and stress. The Time watch connects to the Bellabeat app to provide you with insights into your daily wellness.\n",
    "* **Spring:** This is a water bo\u0000le that tracks daily water intake using smart\u0000 technology to ensure that you are appropriately hydrated throughout the day. The Spring bottle connects to the Bellabeat app to track your hydration levels.\n",
    "* **Bellabeat membership:** Bellabeat also offers a subscription-based membership program for users. Membership gives users 24/7 access to fully personalized guidance on nutrition, activity, sleep, health and beauty, and mindfulness based on their lifestyle and goals.\n",
    "\n",
    "\n",
    "---"
   ]
  },
  {
   "cell_type": "markdown",
   "id": "1ac6118e-fef0-4f5e-891a-f505f819030c",
   "metadata": {},
   "source": [
    "# 1. ASK\n",
    "\n"
   ]
  }
 ],
 "metadata": {
  "kernelspec": {
   "display_name": "Python 3 (ipykernel)",
   "language": "python",
   "name": "python3"
  },
  "language_info": {
   "codemirror_mode": {
    "name": "ipython",
    "version": 3
   },
   "file_extension": ".py",
   "mimetype": "text/x-python",
   "name": "python",
   "nbconvert_exporter": "python",
   "pygments_lexer": "ipython3",
   "version": "3.11.7"
  }
 },
 "nbformat": 4,
 "nbformat_minor": 5
}
